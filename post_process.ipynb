{
 "cells": [
  {
   "cell_type": "code",
   "execution_count": 24,
   "metadata": {},
   "outputs": [],
   "source": [
    "import numpy as np\n",
    "from PIL import Image\n",
    "from tqdm import tqdm\n",
    "import json\n",
    "import os\n",
    "\n",
    "#data = json.load(open('/Volumes/Elements/236_data/origin/data.json'))\n",
    "base = '/Volumes/Elements/236_data/origin/'\n",
    "\n",
    "\n",
    "from transformers import pipeline"
   ]
  },
  {
   "cell_type": "code",
   "execution_count": 25,
   "metadata": {},
   "outputs": [
    {
     "name": "stderr",
     "output_type": "stream",
     "text": [
      "No model was supplied, defaulted to sshleifer/distilbart-cnn-12-6 (https://huggingface.co/sshleifer/distilbart-cnn-12-6)\n"
     ]
    }
   ],
   "source": [
    "summarizer = pipeline(\"summarization\")\n"
   ]
  },
  {
   "cell_type": "code",
   "execution_count": 65,
   "metadata": {},
   "outputs": [
    {
     "name": "stdout",
     "output_type": "stream",
     "text": [
      "{'id': 107629, 'caption': 'Marissa Mayer poses at Google s Mountain View California headquarters in this February 24 2009 file photo', 'topic': 'arts_culture', 'source': 'washington_post', 'image_path': './washington_post/images/0418/478.jpg', 'article_path': './washington_post/articles/107629.txt'}\n"
     ]
    }
   ],
   "source": [
    "#find data where 'id' = 107629\n",
    "for i in range(len(data)):\n",
    "    if data[i]['id'] == 107629:\n",
    "        print(data[i])\n",
    "        break"
   ]
  },
  {
   "cell_type": "code",
   "execution_count": 27,
   "metadata": {},
   "outputs": [
    {
     "data": {
      "text/plain": [
       "[{'summary_text': ' Volodymyr Zelenskiy has been on a virtual tour of western capitals over the past three weeks, tailoring his speeches to each nation . He asked members of the House of Representatives and Senate to watch a searing video compilation showing the hell that Russian troops have rained down on Ukraine and its citizens . The video was shown to millions of American TV viewers just after 9am on Wednesday .'}]"
      ]
     },
     "execution_count": 27,
     "metadata": {},
     "output_type": "execute_result"
    }
   ],
   "source": [
    "text = \"\"\"For four long years members of the US Congress had to smile or scowl as a TV star played the role of president.\n",
    "\n",
    "Donald Trump became infamous for the art of lying. On Wednesday another TV performer turned national leader came before Congress. But this one captivated his viewers with truth telling.\n",
    "\n",
    "The Ukrainian president, Volodymyr Zelenskiy, a former actor and comedian facing down the Russian war machine, has an instinctive understanding of the camera but is proving a more serious man for more serious times.\n",
    "\n",
    "Despite being under siege in Kyiv, Zelenskiy has been on a virtual tour of western capitals over the past three weeks, tailoring his speeches to each nation. Speaking virtually to the British parliament, he cited William Shakespeare and Winston Churchill, while he asked members of its Canadian equivalent to imagine waking at 4am to bombs dropping on Ottawa’s airport or Toronto’s CN Tower.\n",
    "\n",
    "The Axios website described it as a “signature blend of praising, chastising and pleading with his audience to understand the global stakes of Ukraine’s resistance” which has produced unexpected commitments such as oil and Swift banking sanctions.\n",
    "\n",
    "So it was that in a packed auditorium in the basement of the US Capitol in Washington, Zelenskiy, whose words were translated from Ukrainian into English by a female interpreter, conjured the demons of two days when America was attacked from the skies to renew his plea for a no-fly zone above Ukraine.\n",
    "\n",
    "“Remember Pearl Harbor, the terrible morning of December 7, 1941, when your sky was black from the planes attacking you,” said Zelenskiy, looming large on a cinema screen, wearing perfectly trimmed hair and beard and a green T-shirt, against a white backdrop with a Ukrainian flag to one side.\n",
    "\n",
    "“Remember September 11, a terrible day in 2001 when evil tried to turn your cities, independent territories, into battlefields. When innocent people were attacked from the air. Our country is experiencing the same every day, right now, at this moment. Every night for three weeks now … Russia has turned the Ukrainian sky into a source of death for thousands of people.”\n",
    "\n",
    "Combined with references to Mount Rushmore and Martin Luther King’s “I have a dream speech”, Zelenskiy, was pushing America’s most emotive buttons with words. But he also knows that this is the nation of network television, cable news, Hollywood, Netflix and social media. So words alone would not do.\n",
    "\n",
    "Zelenskiy asked the members of the House of Representatives and Senate to watch a searing video compilation showing the hell that Russian troops have rained down on Ukraine and its citizens. It contrasted idyllic images of children playing in peaceful towns and cities with explosions, destruction, sobbing, refugees, hospitals and corpses, accompanied by the lament of a violin.\n",
    "\n",
    "According to a pooled report by the Associated Press, “As Zelenskiy played the video of violence, the room was very quiet and members were mostly still. Some shook their heads or wiped eyes or took video. Small amount of applause afterward.”\n",
    "\n",
    "Then came a simple message written in white letters on a black backdrop: “Close the sky over Ukraine.”\n",
    "\n",
    "Tragic in the truest sense because this is the one thing that Congress, and Joe Biden, will not do, fearing that a no-fly zone, in which US pilots shoot down Russians, could trigger a third world war. Perhaps aware of this reluctance, Zelenskiy did not dwell on the issue for long, pivoting to a request for surface-to-air missile systems and urging Washington to “do more”.\n",
    "\n",
    "But the video had a wider purpose. It was shown to millions of American TV viewers just after 9am. It caught TV executives by surprise and they did not have time to censor it; some anchors apologised for its graphic content. It spread far and wide on social media. In the court of public opinion, the video humanised the victims and conveyed the message that our struggle is your struggle.\n",
    "\n",
    "Zelenskiy had again shown himself to be a master of the medium, inviting comparisons with Vladimir Putin’s efforts to lie low, clamp down on media, crush all dissent and turn Russia into North Korea. Zelenskiy is running rings around Putin in the soft power arena with his speeches and intimate phone videos; Russia is not faring especially well with hard power either.\n",
    "\n",
    "On Wednesday the Ukrainian president ended his speech by addressing the room in English. “Now, I’m almost 45 years old,” he said. “Today my age stopped when the heart of more than 100 children stopped beating. I see no sense in life if it cannot stop the deaths.”\n",
    "\n",
    "There was also a direct appeal to Biden: “I wish for you to be the leader of the world. Being the leader of the world means to be the leader of peace.”\n",
    "\n",
    "The auditorium erupted in a bipartisan standing ovation. Chris Murphy, a Democratic senator, tweeted: “There’s no member of Congress left that room without thinking what more the United States can do to stop this carnage. Just a gut wrenching speech. #SlavaUkraine.”\n",
    "\n",
    "In an era of Trumpism, fake news and disinformation, Zelenskiy, who used to play a fictional president, had cut through with his sincerity. For him and Ukraine, it already feels like a third world war; that is their truth. And the temptation for America to flex its superpower muscles is stronger than ever.\n",
    "\n",
    "Tragic in the truest sense because this is the one thing that Congress, and Joe Biden, will not do, fearing that a no-fly zone, in which US pilots shoot down Russians, could trigger a third world war. Perhaps aware of this reluctance, Zelenskiy did not dwell on the issue for long, pivoting to a request for surface-to-air missile systems and urging Washington to “do more”.\n",
    "\n",
    "But the video had a wider purpose. It was shown to millions of American TV viewers just after 9am. It caught TV executives by surprise and they did not have time to censor it; some anchors apologised for its graphic content. It spread far and wide on social media. In the court of public opinion, the video humanised the victims and conveyed the message that our struggle is your struggle.\n",
    "\n",
    "Zelenskiy had again shown himself to be a master of the medium, inviting comparisons with Vladimir Putin’s efforts to lie low, clamp down on media, crush all dissent and turn Russia into North Korea. Zelenskiy is running rings around Putin in the soft power arena with his speeches and intimate phone videos; Russia is not faring especially well with hard power either.\n",
    "\n",
    "On Wednesday the Ukrainian president ended his speech by addressing the room in English. “Now, I’m almost 45 years old,” he said. “Today my age stopped when the heart of more than 100 children stopped beating. I see no sense in life if it cannot stop the deaths.”\n",
    "\n",
    "There was also a direct appeal to Biden\"\"\"\n",
    "\n",
    "\n",
    "summarizer(text)"
   ]
  },
  {
   "cell_type": "code",
   "execution_count": null,
   "metadata": {},
   "outputs": [],
   "source": [
    "def summarized_docs(ids):\n",
    "    summaries = {}\n",
    "    for id in tqdm(ids):\n",
    "        #find data with id\n",
    "        art_path = None\n",
    "        caption = None\n",
    "        for d in data:\n",
    "            if d['id'] == id:\n",
    "                art_path = base + d['article_path'][2:]\n",
    "                caption = d['caption']\n",
    "                print(art_path)\n",
    "                break\n",
    "        #print article  \n",
    "        with open(art_path, 'r') as f:\n",
    "            art = f.read()\n",
    "            #split into words\n",
    "            art = art.split()\n",
    "            #take first 700 words\n",
    "            art = art[:500]\n",
    "            #join words\n",
    "            art = ' '.join(art)\n",
    "            print(len(art))\n",
    "\n",
    "            text = summarizer(art, min_length=5, max_length=50)[0]['summary_text']\n",
    "            #add to dict\n",
    "            summaries[id] = {'caption': caption, 'summary': text}\n",
    "            print(text)\n",
    "\n",
    "    return summaries\n"
   ]
  },
  {
   "cell_type": "code",
   "execution_count": null,
   "metadata": {},
   "outputs": [],
   "source": [
    "#pick 128 random images from the ./test folder\n",
    "random_imgs = np.random.choice(os.listdir('./test'), 128, replace=False)\n",
    "#remove the .jpg extension from the images\n",
    "random_imgs = [img[:-4] for img in random_imgs]\n",
    "#convert to list of ints\n",
    "random_imgs = [int(img) for img in random_imgs]\n",
    "summaries = summarized_docs(random_imgs)\n",
    "\n",
    "#save to json\n",
    "with open('./test_summaries.json', 'w') as f:\n",
    "    json.dump(summaries, f)\n"
   ]
  },
  {
   "cell_type": "code",
   "execution_count": 44,
   "metadata": {},
   "outputs": [
    {
     "name": "stdout",
     "output_type": "stream",
     "text": [
      "huggingface/tokenizers: The current process just got forked, after parallelism has already been used. Disabling parallelism to avoid deadlocks...\n",
      "To disable this warning, you can either:\n",
      "\t- Avoid using `tokenizers` before the fork if possible\n",
      "\t- Explicitly set the environment variable TOKENIZERS_PARALLELISM=(true | false)\n",
      "/Users/isaiahwilliams/thumbnail\n"
     ]
    }
   ],
   "source": [
    "!pwd"
   ]
  },
  {
   "cell_type": "code",
   "execution_count": 45,
   "metadata": {},
   "outputs": [
    {
     "ename": "IndexError",
     "evalue": "list index out of range",
     "output_type": "error",
     "traceback": [
      "\u001b[0;31m---------------------------------------------------------------------------\u001b[0m",
      "\u001b[0;31mIndexError\u001b[0m                                Traceback (most recent call last)",
      "\u001b[1;32m/Users/isaiahwilliams/thumbnail/post_process.ipynb Cell 7'\u001b[0m in \u001b[0;36m<module>\u001b[0;34m\u001b[0m\n\u001b[1;32m      <a href='vscode-notebook-cell:/Users/isaiahwilliams/thumbnail/post_process.ipynb#ch0000005?line=7'>8</a>\u001b[0m fake_summ_ft_files \u001b[39m=\u001b[39m os\u001b[39m.\u001b[39mlistdir(fake_summ_ft_path)\n\u001b[1;32m      <a href='vscode-notebook-cell:/Users/isaiahwilliams/thumbnail/post_process.ipynb#ch0000005?line=8'>9</a>\u001b[0m fake_summ_ft_files \u001b[39m=\u001b[39m [f \u001b[39mfor\u001b[39;00m f \u001b[39min\u001b[39;00m fake_summ_ft_files \u001b[39mif\u001b[39;00m os\u001b[39m.\u001b[39mpath\u001b[39m.\u001b[39misfile(fake_summ_ft_path \u001b[39m+\u001b[39m f)]\n\u001b[0;32m---> <a href='vscode-notebook-cell:/Users/isaiahwilliams/thumbnail/post_process.ipynb#ch0000005?line=9'>10</a>\u001b[0m folder_name \u001b[39m=\u001b[39m fake_summ_ft_files[\u001b[39m0\u001b[39;49m]\u001b[39m.\u001b[39msplit(\u001b[39m'\u001b[39m\u001b[39m_\u001b[39m\u001b[39m'\u001b[39m)[\u001b[39m0\u001b[39m][\u001b[39m2\u001b[39m:]\n\u001b[1;32m     <a href='vscode-notebook-cell:/Users/isaiahwilliams/thumbnail/post_process.ipynb#ch0000005?line=10'>11</a>\u001b[0m \u001b[39m#make folder of folder name\u001b[39;00m\n\u001b[1;32m     <a href='vscode-notebook-cell:/Users/isaiahwilliams/thumbnail/post_process.ipynb#ch0000005?line=11'>12</a>\u001b[0m os\u001b[39m.\u001b[39mmkdir(fake_summ_ft_path \u001b[39m+\u001b[39m folder_name)\n",
      "\u001b[0;31mIndexError\u001b[0m: list index out of range"
     ]
    }
   ],
   "source": [
    "fake_summ_ft_path = '/Users/isaiahwilliams/thumbnail/fake/summary/ft/'\n",
    "fake_caption_ft_path = '/Users/isaiahwilliams/thumbnail/fake/caption/ft/'\n",
    "fake_summ_base_path = '/Users/isaiahwilliams/thumbnail/fake/summary/base/'\n",
    "fake_caption_base_path = '/Users/isaiahwilliams/thumbnail/fake/caption/base/'\n",
    "\n",
    "for i in range (1, len(os.listdir(fake_summ_ft_path))):\n",
    "    #get os list files only\n",
    "    fake_summ_ft_files = os.listdir(fake_summ_ft_path)\n",
    "    fake_summ_ft_files = [f for f in fake_summ_ft_files if os.path.isfile(fake_summ_ft_path + f)]\n",
    "    folder_name = fake_summ_ft_files[0].split('_')[0][2:]\n",
    "    #make folder of folder name\n",
    "    os.mkdir(fake_summ_ft_path + folder_name)\n",
    "    #move all files containing folder name to folder\n",
    "    for f in fake_summ_ft_files:\n",
    "        if folder_name in f:\n",
    "            os.rename(fake_summ_ft_path + f, fake_summ_ft_path + folder_name + '/' + f)\n",
    "        \n",
    "    ########################################################################################################################\n",
    "    fake_caption_ft_files = os.listdir(fake_caption_ft_path)\n",
    "    fake_caption_ft_files = [f for f in fake_caption_ft_files if os.path.isfile(fake_caption_ft_path + f)]\n",
    "    folder_name = fake_caption_ft_files[0].split('_')[0][2:]\n",
    "    #make folder of folder name\n",
    "    os.mkdir(fake_caption_ft_path + folder_name)\n",
    "    #move all files containing folder name to folder\n",
    "    for f in fake_caption_ft_files:\n",
    "        if folder_name in f:\n",
    "            os.rename(fake_caption_ft_path + f, fake_caption_ft_path + folder_name + '/' + f)\n",
    "\n",
    "\n",
    "    ########################################################################################################################\n",
    "    fake_summ_base_files = os.listdir(fake_summ_base_path)\n",
    "    fake_summ_base_files = [f for f in fake_summ_base_files if os.path.isfile(fake_summ_base_path + f)]\n",
    "    folder_name = fake_summ_base_files[0].split('_')[0][2:]\n",
    "    #make folder of folder name\n",
    "    os.mkdir(fake_summ_base_path + folder_name)\n",
    "    #move all files containing folder name to folder\n",
    "    for f in fake_summ_base_files:\n",
    "        if folder_name in f:\n",
    "            os.rename(fake_summ_base_path + f, fake_summ_base_path + folder_name + '/' + f)\n",
    "\n",
    "\n",
    "    ########################################################################################################################\n",
    "    fake_caption_base_files = os.listdir(fake_caption_base_path)\n",
    "    fake_caption_base_files = [f for f in fake_caption_base_files if os.path.isfile(fake_caption_base_path + f)]\n",
    "    folder_name = fake_caption_base_files[0].split('_')[0][2:]\n",
    "    #make folder of folder name\n",
    "    os.mkdir(fake_caption_base_path + folder_name)\n",
    "    #move all files containing folder name to folder\n",
    "    for f in fake_caption_base_files:\n",
    "        if folder_name in f:\n",
    "            os.rename(fake_caption_base_path + f, fake_caption_base_path + folder_name + '/' + f)\n",
    "\n",
    "\n",
    "###THIS RETURNS AN ERROR BUT STILL WORKS WITH ZIP FILE\n",
    "\n"
   ]
  },
  {
   "cell_type": "code",
   "execution_count": null,
   "metadata": {},
   "outputs": [],
   "source": [
    "#find data where id = '111268'\n",
    "\n",
    "for "
   ]
  },
  {
   "cell_type": "code",
   "execution_count": 4,
   "metadata": {},
   "outputs": [
    {
     "name": "stderr",
     "output_type": "stream",
     "text": [
      "100%|██████████| 113/113 [00:14<00:00,  7.64it/s]\n"
     ]
    }
   ],
   "source": [
    "fake_summ_ft_path = '/Users/isaiahwilliams/thumbnail/fake/summary/ft/'\n",
    "from tqdm import tqdm\n",
    "for path in tqdm(os.listdir(fake_summ_ft_path)):\n",
    "    #get os list files only\n",
    "    if os.path.isdir(fake_summ_ft_path + path):\n",
    "        #print(path)\n",
    "        id = path\n",
    "        real_img_path = '/Users/isaiahwilliams/thumbnail/test/' + str(id) + '.jpg'\n",
    "        new_dest = '/Users/isaiahwilliams/thumbnail/real/' + str(id) + '.jpg'\n",
    "        !cp '{real_img_path}' '{new_dest}'"
   ]
  },
  {
   "cell_type": "code",
   "execution_count": 3,
   "metadata": {},
   "outputs": [
    {
     "name": "stdout",
     "output_type": "stream",
     "text": [
      "{'id': 107629, 'caption': 'Marissa Mayer poses at Google s Mountain View California headquarters in this February 24 2009 file photo', 'topic': 'arts_culture', 'source': 'washington_post', 'image_path': './washington_post/images/0418/478.jpg', 'article_path': './washington_post/articles/107629.txt'}\n"
     ]
    }
   ],
   "source": [
    "for i in range(len(data)):\n",
    "    if data[i]['id'] == id:\n",
    "        print(data[i])\n",
    "        break"
   ]
  },
  {
   "cell_type": "code",
   "execution_count": 11,
   "metadata": {},
   "outputs": [],
   "source": [
    "#loop through all files in test_f and put them in their own folder\n",
    "for filename in os.listdir('./test_f'):\n",
    "    #make folder with filename\n",
    "    folder_name = filename[:-4]\n",
    "    os.mkdir('./test_f/' + folder_name)\n",
    "    #move file into folder\n",
    "    os.rename('./test_f/' + filename, './test_f/' + folder_name + '/' + filename)\n"
   ]
  },
  {
   "cell_type": "code",
   "execution_count": 23,
   "metadata": {},
   "outputs": [],
   "source": [
    "#loop through all files in test_f and duplicate them 3 tiems\n",
    "import shutil\n",
    "for filename in os.listdir('./test_f'):\n",
    "    #check if filename is a folder\n",
    "    #chec kif filename is an int\n",
    "    if os.path.isdir('./test_f/' + filename) and filename.isdigit():\n",
    "        for filename2 in os.listdir('./test_f/' + filename):\n",
    "            shutil.copy('./test_f/' + filename + '/' + filename2, './test_f/' + filename + '/' + filename2[:-4] + '_2.jpg')\n",
    "            shutil.copy('./test_f/' + filename + '/' + filename2, './test_f/' + filename + '/' + filename2[:-4] + '_3.jpg')\n",
    "            shutil.copy('./test_f/' + filename + '/' + filename2, './test_f/' + filename + '/' + filename2[:-4] + '_4.jpg')\n",
    "            \n",
    "            "
   ]
  },
  {
   "cell_type": "code",
   "execution_count": 25,
   "metadata": {},
   "outputs": [],
   "source": [
    "#loop through all files in test_f and duplicate them 3 tiems\n",
    "import shutil\n",
    "for filename in os.listdir('./test_f'):\n",
    "    #check if filename is a folder\n",
    "    #chec kif filename is an int\n",
    "    if os.path.isdir('./test_f/' + filename) and filename.isdigit():\n",
    "        #remove all files that are not jpg\n",
    "        for filename2 in os.listdir('./test_f/' + filename):\n",
    "            if filename2[-4:] != '.jpg':\n",
    "                os.remove('./test_f/' + filename + '/' + filename2)"
   ]
  },
  {
   "cell_type": "markdown",
   "metadata": {},
   "source": [
    "## RUN THIS TO GET FID SCORES ON DATA\n"
   ]
  },
  {
   "cell_type": "code",
   "execution_count": 23,
   "metadata": {},
   "outputs": [
    {
     "name": "stdout",
     "output_type": "stream",
     "text": [
      "100%|█████████████████████████████████████████████| 9/9 [02:00<00:00, 13.38s/it]\n",
      "100%|█████████████████████████████████████████████| 3/3 [00:35<00:00, 11.99s/it]\n",
      "FID:  179.1055763799293\n",
      "100%|█████████████████████████████████████████████| 9/9 [02:00<00:00, 13.41s/it]\n",
      "100%|█████████████████████████████████████████████| 3/3 [00:36<00:00, 12.17s/it]\n",
      "FID:  175.01754727685386\n",
      "100%|█████████████████████████████████████████████| 9/9 [02:07<00:00, 14.15s/it]\n",
      "100%|█████████████████████████████████████████████| 3/3 [00:36<00:00, 12.15s/it]\n",
      "FID:  307.83396283686074\n",
      "100%|█████████████████████████████████████████████| 9/9 [02:01<00:00, 13.46s/it]\n",
      "100%|█████████████████████████████████████████████| 3/3 [00:36<00:00, 12.07s/it]\n",
      "FID:  311.18955829185677\n"
     ]
    }
   ],
   "source": [
    "fake_summ_ft_path = '/Users/isaiahwilliams/thumbnail/fake/summary/ft/'\n",
    "fake_caption_ft_path = '/Users/isaiahwilliams/thumbnail/fake/caption/ft/'\n",
    "fake_summ_base_path = '/Users/isaiahwilliams/thumbnail/fake/summary/base/'\n",
    "fake_caption_base_path = '/Users/isaiahwilliams/thumbnail/fake/caption/base/'\n",
    "real_path = '/Users/isaiahwilliams/thumbnail/real/'\n",
    "\n",
    "!python -m pytorch_fid $fake_summ_ft_path $real_path\n",
    "!python -m pytorch_fid $fake_caption_ft_path $real_path\n",
    "!python -m pytorch_fid $fake_summ_base_path $real_path\n",
    "!python -m pytorch_fid $fake_caption_base_path $real_path\n",
    "\n",
    "\n",
    "\n",
    "\n",
    "   \n"
   ]
  },
  {
   "cell_type": "code",
   "execution_count": 15,
   "metadata": {},
   "outputs": [],
   "source": [
    "# fake_summ_ft_path = '/Users/isaiahwilliams/thumbnail/fake/summary/ft/'\n",
    "# fake_caption_ft_path = '/Users/isaiahwilliams/thumbnail/fake/caption/ft/'\n",
    "# fake_summ_base_path = '/Users/isaiahwilliams/thumbnail/fake/summary/base/'\n",
    "# fake_caption_base_path = '/Users/isaiahwilliams/thumbnail/fake/caption/base/'\n",
    "# real_path = '/Users/isaiahwilliams/thumbnail/real/'\n",
    "\n",
    "# files = []\n",
    "# #loop through all files in fake_summ_ft_path\n",
    "# for filename in os.listdir(fake_summ_ft_path):\n",
    "#     filename_cf = fake_caption_ft_path + filename.replace('sf', 'cf')\n",
    "#     filename_sb = fake_summ_base_path + filename.replace('sf', 'sb')\n",
    "#     filename_cb = fake_caption_base_path + filename.replace('sf', 'cb')\n",
    "#     filename_real = real_path + filename.split('_')[0][2:] + '.jpg'\n",
    "#     filename_sf = fake_summ_ft_path + filename\n",
    "#     files.extend([filename_cf, filename_sb, filename_cb, filename_real, filename_sf])\n",
    "\n",
    "#     #check if file is a file\n",
    "\n",
    "# #loop through all files in files"
   ]
  },
  {
   "cell_type": "code",
   "execution_count": 22,
   "metadata": {},
   "outputs": [],
   "source": [
    "# for path in os.listdir('/Users/isaiahwilliams/thumbnail/fake/'):\n",
    "#     if os.path.isdir('/Users/isaiahwilliams/thumbnail/fake/' + path):\n",
    "#         for filename in os.listdir('/Users/isaiahwilliams/thumbnail/fake/' + path):\n",
    "#             if os.path.isdir('/Users/isaiahwilliams/thumbnail/fake/' + path + '/' + filename):\n",
    "#                 for filename2 in os.listdir('/Users/isaiahwilliams/thumbnail/fake/' + path + '/' + filename):\n",
    "#                     full_path = '/Users/isaiahwilliams/thumbnail/fake/' + path + '/' + filename + '/' + filename2\n",
    "#                     #split on '_'\n",
    "#                     number = int(filename2.split('_')[1][:-4])\n",
    "#                     #if number is greater than 3 then delete\n",
    "#                     if number > 3:\n",
    "#                         os.remove(full_path)\n",
    "\n",
    "#                     if full_path not in files:\n",
    "#                         os.remove(full_path)\n",
    "#                         print(full_path)\n",
    "\n",
    "# for path in os.listdir('/Users/isaiahwilliams/thumbnail/real'):\n",
    "#     full_path = '/Users/isaiahwilliams/thumbnail/real/' + path\n",
    "#     if full_path not in files:\n",
    "#         os.remove(full_path)\n",
    "#         print(full_path)\n"
   ]
  },
  {
   "cell_type": "code",
   "execution_count": null,
   "metadata": {},
   "outputs": [],
   "source": []
  }
 ],
 "metadata": {
  "interpreter": {
   "hash": "cf6277a89a1511f2ce434acab1b00d04286bdb855dc5571e1cf1eeb6f4b6a298"
  },
  "kernelspec": {
   "display_name": "Python 3.8.12 ('img')",
   "language": "python",
   "name": "python3"
  },
  "language_info": {
   "codemirror_mode": {
    "name": "ipython",
    "version": 3
   },
   "file_extension": ".py",
   "mimetype": "text/x-python",
   "name": "python",
   "nbconvert_exporter": "python",
   "pygments_lexer": "ipython3",
   "version": "3.8.12"
  },
  "orig_nbformat": 4
 },
 "nbformat": 4,
 "nbformat_minor": 2
}
